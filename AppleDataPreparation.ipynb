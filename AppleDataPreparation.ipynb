{
 "cells": [
  {
   "cell_type": "markdown",
   "metadata": {},
   "source": [
    "## Library Importation"
   ]
  },
  {
   "cell_type": "code",
   "execution_count": 1,
   "metadata": {},
   "outputs": [],
   "source": [
    "import pandas as pd\n",
    "import plotly.express as px"
   ]
  },
  {
   "cell_type": "code",
   "execution_count": 2,
   "metadata": {},
   "outputs": [],
   "source": [
    "# Load datasets\n",
    "apple_store = pd.read_excel(\"AppleStore.xlsx\", index_col=\"id\", engine=\"openpyxl\")\n",
    "description = pd.read_excel(\"appleStore_description.xlsx\", engine=\"openpyxl\")\n",
    "apple_store.drop(columns=\"Unnamed: 0\", inplace=True)"
   ]
  },
  {
   "cell_type": "markdown",
   "metadata": {},
   "source": [
    "## Data Preprocessing:\n",
    "\n",
    "During the data preprocessing steps, it was observed that some entries in the dataset had 0 in the `lang_num` column, indicating that the number of supported languages for these apps was not available or known. To enhance clarity and handle these cases, the entries with 0 in `lang_num` have been replaced with \"N/A.\"\n",
    "\n",
    "This replacement is made to signify that the information about the supported languages is not provided, rather than indicating that the app supports zero languages. As a result, when encountering \"N/A\" in the `lang_num` column, it implies that the data for the number of languages may be missing or unspecified."
   ]
  },
  {
   "cell_type": "code",
   "execution_count": 3,
   "metadata": {},
   "outputs": [],
   "source": [
    "# Merge the two datasets\n",
    "merged_data = pd.merge(apple_store, description, on=['id', 'track_name', 'size_bytes'], how='left')\n",
    "merged_data.set_index('id', inplace=True)"
   ]
  },
  {
   "cell_type": "code",
   "execution_count": 4,
   "metadata": {},
   "outputs": [],
   "source": [
    "# replace 0 in the lang_num column with N/A\n",
    "merged_data[\"lang_num\"].replace(0, \"N/A\", inplace=True)"
   ]
  },
  {
   "cell_type": "markdown",
   "metadata": {},
   "source": [
    "## Feature Engineering"
   ]
  },
  {
   "cell_type": "code",
   "execution_count": 5,
   "metadata": {},
   "outputs": [],
   "source": [
    "# Convert size in bytes to megabytes\n",
    "merged_data['size_MB'] = merged_data['size_bytes'] / (1024 ** 2)"
   ]
  },
  {
   "cell_type": "code",
   "execution_count": 8,
   "metadata": {},
   "outputs": [],
   "source": [
    "# classifying each app as free or paid\n",
    "\n",
    "# Ensure 'free_paid' column is of an appropriate data type (e.g., object)\n",
    "merged_data['free_paid'] = merged_data['price'].astype('object')\n",
    "\n",
    "# Iterate through the rows and set the 'free_paid' column based on the price\n",
    "for index, row in merged_data.iterrows():\n",
    "    if row['price'] == 0.00:\n",
    "        merged_data.loc[index, 'free_paid'] = \"Free\"\n",
    "    else:\n",
    "        merged_data.loc[index, 'free_paid'] = \"Paid\""
   ]
  },
  {
   "cell_type": "code",
   "execution_count": null,
   "metadata": {},
   "outputs": [],
   "source": [
    "# grouping the number of languages supported by the app\n",
    "\n",
    "# Ensure 'lang_num' column is of an appropriate data type (e.g., Int64)\n",
    "merged_data['lang_num'] = pd.to_numeric(merged_data['lang_num'], errors='coerce').astype('Int64')\n",
    "\n",
    "bins = [0, 20, 40, 60, float('inf')]\n",
    "labels = ['0-20', '20-40', '40-60', '60+']\n",
    "\n",
    "# Create a new column 'lang_num_group' using pd.cut()\n",
    "merged_data['lang_num_group'] = pd.cut(merged_data['lang_num'], bins=bins, labels=labels, right=False)"
   ]
  },
  {
   "cell_type": "code",
   "execution_count": null,
   "metadata": {},
   "outputs": [],
   "source": [
    "# grouping the siz in MB of the app\n",
    "\n",
    "# Define the size ranges\n",
    "bins = [0, 500, 1000, 1500, 2000, 2500, 3000, float('inf')]\n",
    "labels = [\"0-500 MB\", \"500-1000 MB\", \"1000-1500 MB\", \"1500-2000 MB\", \"2000-2500 MB\", \"2500-3000 MB\", \"3000+ MB\"]\n",
    "\n",
    "# Create a new column 'size_group' using pd.cut()\n",
    "merged_data['size_group'] = pd.cut(merged_data['size_MB'], bins=bins, labels=labels, right=False)\n"
   ]
  },
  {
   "cell_type": "code",
   "execution_count": null,
   "metadata": {},
   "outputs": [],
   "source": [
    "# Define the price ranges\n",
    "bins = [0, 0.1, 50, 100, 150, 200, float('inf')]\n",
    "labels = ['free', '0.1-50 dollars', '50-100 dollars', '100-150 dollars', '150-200 dollars', 'Above 200 dollars']\n",
    "\n",
    "# Create a new column 'price_group' using pd.cut()\n",
    "merged_data['price_group'] = pd.cut(merged_data['price'], bins=bins, labels=labels, right=False)"
   ]
  },
  {
   "cell_type": "code",
   "execution_count": null,
   "metadata": {},
   "outputs": [],
   "source": [
    "# merged_data.to_excel('FinalAppleData.xlsx')"
   ]
  },
  {
   "cell_type": "code",
   "execution_count": null,
   "metadata": {},
   "outputs": [],
   "source": [
    "merged_data.to_csv(\"FinalAppleData.csv\")"
   ]
  },
  {
   "cell_type": "code",
   "execution_count": null,
   "metadata": {},
   "outputs": [],
   "source": []
  },
  {
   "cell_type": "code",
   "execution_count": null,
   "metadata": {},
   "outputs": [],
   "source": []
  },
  {
   "cell_type": "code",
   "execution_count": null,
   "metadata": {},
   "outputs": [],
   "source": []
  }
 ],
 "metadata": {
  "kernelspec": {
   "display_name": "Universal",
   "language": "python",
   "name": "python3"
  },
  "language_info": {
   "codemirror_mode": {
    "name": "ipython",
    "version": 3
   },
   "file_extension": ".py",
   "mimetype": "text/x-python",
   "name": "python",
   "nbconvert_exporter": "python",
   "pygments_lexer": "ipython3",
   "version": "3.12.0"
  }
 },
 "nbformat": 4,
 "nbformat_minor": 2
}
